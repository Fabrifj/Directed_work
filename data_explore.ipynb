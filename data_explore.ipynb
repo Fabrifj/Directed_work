{
 "cells": [
  {
   "cell_type": "markdown",
   "metadata": {},
   "source": [
    "# Reead, transform  and analize data #"
   ]
  },
  {
   "cell_type": "code",
   "execution_count": 48,
   "metadata": {},
   "outputs": [],
   "source": [
    "import pandas as pd\n",
    "import matplotlib.pyplot as plt\n",
    "import numpy as np\n"
   ]
  },
  {
   "cell_type": "code",
   "execution_count": 49,
   "metadata": {},
   "outputs": [],
   "source": [
    "source_documents = [\"./documents/db/proformas_2016-2017.xls\",\"./documents/db/proformas_2017-2018.xls\",\n",
    "                    \"./documents/db/proformas_2018-2019.xls\",\"./documents/db/proformas_2019-2020.xls\",\n",
    "                    \"./documents/db/proformas_2020-2021.xls\",\"./documents/db/proformas_2021-2022.xls\"]\n",
    "proformas_2016_2022 = \"./documents/proformas_2016-2022.csv\"\n",
    "df = []"
   ]
  },
  {
   "cell_type": "markdown",
   "metadata": {},
   "source": [
    "## Functions "
   ]
  },
  {
   "cell_type": "markdown",
   "metadata": {},
   "source": [
    "### Read and Transform"
   ]
  },
  {
   "cell_type": "markdown",
   "metadata": {},
   "source": [
    "Read csv"
   ]
  },
  {
   "cell_type": "code",
   "execution_count": 50,
   "metadata": {},
   "outputs": [],
   "source": [
    "def read_excel_file(file_path):\n",
    "    try:\n",
    "        df = pd.read_excel(file_path) \n",
    "        print(f\"Excel {file_path} read correctly, size {df.shape}\" )\n",
    "    except FileNotFoundError:\n",
    "        print(f\"El archivo '{file_path}' no se encontró.\")\n",
    "    except Exception as e:\n",
    "        print(f\"Ocurrió un error al leer el archivo: {str(e)}\")\n",
    "    return df\n"
   ]
  },
  {
   "cell_type": "code",
   "execution_count": 51,
   "metadata": {},
   "outputs": [],
   "source": [
    "def read_csv_file(file_path):\n",
    "    try:\n",
    "        df = pd.read_csv(file_path) \n",
    "        print(f\"Excel {file_path} read correctly, size {df.shape}\" )\n",
    "    except FileNotFoundError:\n",
    "        print(f\"El archivo '{file_path}' no se encontró.\")\n",
    "    except Exception as e:\n",
    "        print(f\"Ocurrió un error al leer el archivo: {str(e)}\")\n",
    "    return df"
   ]
  },
  {
   "cell_type": "markdown",
   "metadata": {},
   "source": [
    "Clean and transform"
   ]
  },
  {
   "cell_type": "code",
   "execution_count": 54,
   "metadata": {},
   "outputs": [],
   "source": [
    "def trim_and_combine(df):\n",
    "    if df is None:\n",
    "        return\n",
    "    \n",
    "    try:\n",
    "        # Clean headers and empty rows\n",
    "        df_clean = trim_dataframe(df)\n",
    "        # Detect sells and products, then transform\n",
    "        df_clean = combine_sales_and_products(df_clean)\n",
    "        \n",
    "        print(\"Data Frame trasformed & clean correctly \")\n",
    "        return df_clean\n",
    "    except KeyError:\n",
    "        print(\"A required column is missing in the DataFrame.\")\n",
    "    except ValueError:\n",
    "        print(\"Error while converting values to integers.\")\n",
    "    except Exception as e:\n",
    "        print(f\"An error occurred while cleaning and transforming the data: {str(e)}\")\n",
    "\n",
    "def trim_dataframe(df):\n",
    "    # Trim the first 15 rows\n",
    "    df_trimmed = df.iloc[17:].reset_index(drop=True)\n",
    "    \n",
    "    # Remove rows where all elements are NaN\n",
    "    df_trimmed.dropna(how='all', inplace=True)\n",
    "    \n",
    "    # Remove rows where the first column is NaN\n",
    "    df_trimmed = df_trimmed[df_trimmed.iloc[:, 0].notna()]\n",
    "    return df_trimmed\n",
    "import re\n",
    "\n",
    "\n",
    "\n",
    "def combine_sales_and_products(df):\n",
    "    results = []\n",
    "    # Your combine_sales_and_products function code here\n",
    "    actual_sell = None\n",
    "    df[\"isProduct\"] = df.iloc[:, 0].apply(lambda x:True if (str(x).startswith((\"A\",\"G\",\"P\", \"R\",\"S\",\"U\",\"X\",\"Y\", \"Z\"))  )else False)\n",
    "\n",
    "    for indice, row in df.iterrows():\n",
    "        if row[\"isProduct\"]:\n",
    "            result_row = pd.concat([actual_sell, row], ignore_index=True,axis=0)\n",
    "            results.append(result_row)\n",
    "        else:\n",
    "            actual_sell = row\n",
    "    # Creamos un nuevo DataFrame con las filas combinadas\n",
    "    df_combinado = pd.DataFrame(results, index=None)\n",
    "    return df_combinado\n"
   ]
  },
  {
   "cell_type": "markdown",
   "metadata": {},
   "source": [
    "Save data"
   ]
  },
  {
   "cell_type": "code",
   "execution_count": null,
   "metadata": {},
   "outputs": [],
   "source": [
    "def save_data(df, output_path):\n",
    "    if df is not None:\n",
    "        try:\n",
    "            print(f\"Data frame shape: {df.shape}\")\n",
    "            df.to_csv(output_path, index=False)\n",
    "            print(\"Data Frame saved correctly \")\n",
    "\n",
    "        except Exception as e:\n",
    "            print(f\"An error occurred while saving the transformed data: {str(e)}\")"
   ]
  },
  {
   "cell_type": "markdown",
   "metadata": {},
   "source": [
    "Drop empty columns "
   ]
  },
  {
   "cell_type": "code",
   "execution_count": null,
   "metadata": {},
   "outputs": [],
   "source": [
    "def rename_and_drop_columns(df):\n",
    "    try:\n",
    "        # Clean headers and empty rows\n",
    "        df = decorate_data(df)\n",
    "        df = drop_empty_columns(df)\n",
    "        df = df.drop_duplicates()\n",
    "\n",
    "        print(\"Data Frame trasformed & clean correctly \")\n",
    "        return df \n",
    "\n",
    "    except KeyError:\n",
    "        print(\"A required column is missing in the DataFrame.\")\n",
    "    except ValueError:\n",
    "        print(\"Error while converting values to integers.\")\n",
    "    except Exception as e:\n",
    "        print(f\"An error occurred while cleaning and transforming the data: {str(e)}\")\n",
    "\n",
    "\n",
    "def decorate_data(df):\n",
    "    try:\n",
    "        #Rename Columns\n",
    "        nombres_columnas = {0:'Codigo_venta', 1:'Fecha',2:'None1',3:'Codigo_almacen',4:'Caja',5: 'T_C',6: 'Codigo_cliente',7: 'Nombre_cliente',8: 'Codigo_vendedor',9: 'Codigo_proyecto',\n",
    "                    10:'None2', 11:'None3', 12:'None4',13:'None5',14:'Flag_venta', 15:'Codigo_producto',16:'None6', 17:'Nombre_producto',18:'None7', 19:'Linea_producto',20:'None8',21: 'None9',\n",
    "                    22:'Cantidad_vendida', 23:'None10', 24:'Total_proforma',25:'Total_descuento', 26:'Facturar', 27:'Impuesto',28:'Total_venta',29:'Flag_producto'\n",
    "                    }\n",
    "        df_rename = df.rename(columns=nombres_columnas)\n",
    "        # Drop nan columns\n",
    "        print(\"Data Frame decorate correctly \")\n",
    "        return df_rename\n",
    "    except Exception as e:\n",
    "        print(f\"An error occurred while saving the transformed data: {str(e)}\")\n",
    "def drop_empty_columns(df):\n",
    "    drop_columns = ['None1', 'None2','None3','None4','None5','None6','None7','None8',\"None9\",\"None10\",\"Nombre_producto\",\n",
    "                    \"Linea_producto\",'Flag_producto','Flag_venta',\"Caja\",\"T_C\"]\n",
    "    df = df.drop(columns=drop_columns)\n",
    "    return df"
   ]
  },
  {
   "cell_type": "markdown",
   "metadata": {},
   "source": [
    "### Explore data"
   ]
  },
  {
   "cell_type": "code",
   "execution_count": null,
   "metadata": {},
   "outputs": [],
   "source": [
    "def show_empty_files(df):\n",
    "    count_columns = df.count()\n",
    "    miss_data = count_columns - count_columns.max()\n",
    "    return miss_data"
   ]
  },
  {
   "cell_type": "markdown",
   "metadata": {},
   "source": [
    "### Fill data frame "
   ]
  },
  {
   "cell_type": "markdown",
   "metadata": {},
   "source": [
    "Como la funcionalidad de la proformas es el registro y no los productos perse, se hara una distribucion en funcion de la tendencia "
   ]
  },
  {
   "cell_type": "code",
   "execution_count": 72,
   "metadata": {},
   "outputs": [],
   "source": [
    "def fill_codigo_almacen(df):\n",
    "    # Get the % representation\n",
    "    get_almacen = df[df[\"Codigo_almacen\"].notna()]\n",
    "    len_df = len(get_almacen)\n",
    "    unique_sells = get_almacen.groupby(\"Codigo_almacen\")[\"Codigo_venta\"].count()\n",
    "    unique_sells =( unique_sells / len_df) \n",
    "    unique_sells = unique_sells[unique_sells>0.01]\n",
    "    print(unique_sells)\n",
    "    # get # of representation \n",
    "    nan_almacen = df[df[\"Codigo_almacen\"].isna()]\n",
    "    representation_sells = round(unique_sells * len(nan_almacen))\n",
    "\n",
    "    # for index, row in nan_almacen.iterrows():\n",
    "    representation_index = 0 \n",
    "    for index, row in nan_almacen.iterrows():\n",
    "        df.at[index, \"Codigo_almacen\"] = representation_sells.iloc[representation_index]\n",
    "        representation_sells.iloc[representation_index] = representation_sells.iloc[representation_index] -1\n",
    "        if representation_sells.iloc[representation_index] == 0 :\n",
    "            representation_index = representation_index + 1\n",
    "    return df \n",
    "\n"
   ]
  },
  {
   "cell_type": "markdown",
   "metadata": {},
   "source": [
    "Codigo de cliente lo llenamos con le dominante "
   ]
  },
  {
   "cell_type": "code",
   "execution_count": 83,
   "metadata": {},
   "outputs": [
    {
     "data": {
      "text/html": [
       "<div>\n",
       "<style scoped>\n",
       "    .dataframe tbody tr th:only-of-type {\n",
       "        vertical-align: middle;\n",
       "    }\n",
       "\n",
       "    .dataframe tbody tr th {\n",
       "        vertical-align: top;\n",
       "    }\n",
       "\n",
       "    .dataframe thead th {\n",
       "        text-align: right;\n",
       "    }\n",
       "</style>\n",
       "<table border=\"1\" class=\"dataframe\">\n",
       "  <thead>\n",
       "    <tr style=\"text-align: right;\">\n",
       "      <th></th>\n",
       "      <th>Codigo_venta</th>\n",
       "      <th>Fecha</th>\n",
       "      <th>Codigo_almacen</th>\n",
       "      <th>Nombre_cliente</th>\n",
       "      <th>Codigo_vendedor</th>\n",
       "      <th>Codigo_proyecto</th>\n",
       "      <th>Codigo_producto</th>\n",
       "      <th>Cantidad_vendida</th>\n",
       "      <th>Total_proforma</th>\n",
       "      <th>Total_descuento</th>\n",
       "      <th>Facturar</th>\n",
       "      <th>Impuesto</th>\n",
       "      <th>Total_venta</th>\n",
       "    </tr>\n",
       "    <tr>\n",
       "      <th>Codigo_cliente</th>\n",
       "      <th></th>\n",
       "      <th></th>\n",
       "      <th></th>\n",
       "      <th></th>\n",
       "      <th></th>\n",
       "      <th></th>\n",
       "      <th></th>\n",
       "      <th></th>\n",
       "      <th></th>\n",
       "      <th></th>\n",
       "      <th></th>\n",
       "      <th></th>\n",
       "      <th></th>\n",
       "    </tr>\n",
       "  </thead>\n",
       "  <tbody>\n",
       "    <tr>\n",
       "      <th>O</th>\n",
       "      <td>69246</td>\n",
       "      <td>69246</td>\n",
       "      <td>69246</td>\n",
       "      <td>69234</td>\n",
       "      <td>65455</td>\n",
       "      <td>57715</td>\n",
       "      <td>69246</td>\n",
       "      <td>69246</td>\n",
       "      <td>69246</td>\n",
       "      <td>69246</td>\n",
       "      <td>69246</td>\n",
       "      <td>69246</td>\n",
       "      <td>69246</td>\n",
       "    </tr>\n",
       "    <tr>\n",
       "      <th>30-011</th>\n",
       "      <td>1632</td>\n",
       "      <td>1632</td>\n",
       "      <td>1632</td>\n",
       "      <td>1632</td>\n",
       "      <td>1539</td>\n",
       "      <td>1491</td>\n",
       "      <td>1632</td>\n",
       "      <td>1632</td>\n",
       "      <td>1632</td>\n",
       "      <td>1632</td>\n",
       "      <td>1632</td>\n",
       "      <td>1632</td>\n",
       "      <td>1632</td>\n",
       "    </tr>\n",
       "  </tbody>\n",
       "</table>\n",
       "</div>"
      ],
      "text/plain": [
       "                Codigo_venta  Fecha  Codigo_almacen  Nombre_cliente  \\\n",
       "Codigo_cliente                                                        \n",
       "O                      69246  69246           69246           69234   \n",
       "30-011                  1632   1632            1632            1632   \n",
       "\n",
       "                Codigo_vendedor  Codigo_proyecto  Codigo_producto  \\\n",
       "Codigo_cliente                                                      \n",
       "O                         65455            57715            69246   \n",
       "30-011                     1539             1491             1632   \n",
       "\n",
       "                Cantidad_vendida  Total_proforma  Total_descuento  Facturar  \\\n",
       "Codigo_cliente                                                                \n",
       "O                          69246           69246            69246     69246   \n",
       "30-011                      1632            1632             1632      1632   \n",
       "\n",
       "                Impuesto  Total_venta  \n",
       "Codigo_cliente                         \n",
       "O                  69246        69246  \n",
       "30-011              1632         1632  "
      ]
     },
     "execution_count": 83,
     "metadata": {},
     "output_type": "execute_result"
    }
   ],
   "source": [
    "incompleted_df[incompleted_df[\"Codigo_cliente\"].notna()].groupby(\"Codigo_cliente\").count().sort_values([\"Codigo_venta\"],ascending=False).head(2)"
   ]
  },
  {
   "cell_type": "code",
   "execution_count": 93,
   "metadata": {},
   "outputs": [],
   "source": [
    "def fill_codigo_cliente(df):\n",
    "    df[\"Codigo_cliente\"]  = df[\"Codigo_cliente\"].fillna(\"O\")\n",
    "    return df "
   ]
  },
  {
   "cell_type": "code",
   "execution_count": 99,
   "metadata": {},
   "outputs": [],
   "source": [
    "def fill_nombre_cliente(df):\n",
    "    df[\"Nombre_cliente\"]  = df[\"Nombre_cliente\"].fillna(\"DESCONOCIDO\")\n",
    "    return df "
   ]
  },
  {
   "cell_type": "code",
   "execution_count": null,
   "metadata": {},
   "outputs": [],
   "source": [
    "def estimate_vendor_code(df,row):\n",
    "    vendor_by_date =estimate_vendor_by_sell_date(df,row)\n",
    "    vendor_by_client = estimate_vendor_by_client(df,row)\n",
    "    vendor_combined = pd.concat([vendor_by_client,vendor_by_date])\n",
    "    vendor_grouped = vendor_combined.groupby([\"Codigo_vendedor\"])['Percentage'].sum().reset_index(name='TotalPercentage')\n",
    "    vendor_grouped[\"TotalPercentage\"] = vendor_grouped[\"TotalPercentage\"] / 2\n",
    "    return vendor_grouped[vendor_grouped[\"TotalPercentage\"] == vendor_grouped[\"TotalPercentage\"].max()]\n",
    "\n",
    "def estimate_vendor_by_sell_date(df,row):\n",
    "    filtered_df = df[(df['Fecha'].dt.year == row[\"Fecha\"].year) & (df['Codigo_almacen'] == row[\"Codigo_almacen\"])]\n",
    "    vendor_counts = filtered_df.groupby([\"Codigo_vendedor\"])[\"Codigo_venta\"].count().reset_index(name='Count')\n",
    "    total_rows = len(filtered_df)\n",
    "    vendor_counts[\"Percentage\"] = (vendor_counts[\"Count\"].apply(lambda x : x / total_rows) * 100)\n",
    "    return vendor_counts\n",
    "\n",
    "def estimate_vendor_by_client(df,row):\n",
    "    filtered_df = df[df[\"Codigo_cliente\"]==row[\"Codigo_cliente\"]]\n",
    "    vendor_counts = filtered_df.groupby([\"Codigo_vendedor\"])[\"Codigo_venta\"].count().reset_index(name='Count')\n",
    "    total_rows = len(filtered_df)\n",
    "    vendor_counts[\"Percentage\"] = (vendor_counts[\"Count\"].apply(lambda x : x / total_rows) * 100)\n",
    "    return vendor_counts\n",
    "\n",
    "# results = []\n",
    "# for index,row in df_final[df_final[\"Codigo_vendedor\"].isna()].iterrows():\n",
    "#     result = (estimate_vendor_code(df_final, row))\n",
    "#     df_final.at[index, \"Codigo_vendedor\"] = result[\"Codigo_vendedor\"]"
   ]
  },
  {
   "cell_type": "code",
   "execution_count": null,
   "metadata": {},
   "outputs": [],
   "source": [
    "def fill_codigo_proyecto(df):\n",
    "    return df"
   ]
  },
  {
   "cell_type": "markdown",
   "metadata": {},
   "source": [
    "## Results"
   ]
  },
  {
   "cell_type": "markdown",
   "metadata": {},
   "source": [
    "### Read and tranform proformas 2016-2022"
   ]
  },
  {
   "cell_type": "markdown",
   "metadata": {},
   "source": [
    "Read and tranform data "
   ]
  },
  {
   "cell_type": "code",
   "execution_count": 55,
   "metadata": {},
   "outputs": [
    {
     "name": "stdout",
     "output_type": "stream",
     "text": [
      "WARNING *** OLE2 inconsistency: SSCS size is 0 but SSAT size is non-zero\n",
      "Excel ./documents/db/proformas_2016-2017.xls read correctly, size (30349, 14)\n",
      "Data Frame trasformed & clean correctly \n",
      "Excel ./documents/db/proformas_2017-2018.xls read correctly, size (39456, 14)\n",
      "Data Frame trasformed & clean correctly \n",
      "WARNING *** file size (7477289) not 512 + multiple of sector size (512)\n",
      "WARNING *** OLE2 inconsistency: SSCS size is 0 but SSAT size is non-zero\n",
      "Excel ./documents/db/proformas_2018-2019.xls read correctly, size (61463, 14)\n",
      "Data Frame trasformed & clean correctly \n",
      "WARNING *** file size (7834864) not 512 + multiple of sector size (512)\n",
      "WARNING *** OLE2 inconsistency: SSCS size is 0 but SSAT size is non-zero\n",
      "Excel ./documents/db/proformas_2019-2020.xls read correctly, size (65534, 14)\n",
      "Data Frame trasformed & clean correctly \n",
      "WARNING *** file size (6922371) not 512 + multiple of sector size (512)\n",
      "WARNING *** OLE2 inconsistency: SSCS size is 0 but SSAT size is non-zero\n",
      "Excel ./documents/db/proformas_2020-2021.xls read correctly, size (57466, 14)\n",
      "Data Frame trasformed & clean correctly \n",
      "Excel ./documents/db/proformas_2021-2022.xls read correctly, size (65534, 14)\n",
      "Data Frame trasformed & clean correctly \n",
      "Data Frame decorate correctly \n",
      "Data Frame trasformed & clean correctly \n"
     ]
    },
    {
     "data": {
      "text/html": [
       "<div>\n",
       "<style scoped>\n",
       "    .dataframe tbody tr th:only-of-type {\n",
       "        vertical-align: middle;\n",
       "    }\n",
       "\n",
       "    .dataframe tbody tr th {\n",
       "        vertical-align: top;\n",
       "    }\n",
       "\n",
       "    .dataframe thead th {\n",
       "        text-align: right;\n",
       "    }\n",
       "</style>\n",
       "<table border=\"1\" class=\"dataframe\">\n",
       "  <thead>\n",
       "    <tr style=\"text-align: right;\">\n",
       "      <th></th>\n",
       "      <th>Codigo_venta</th>\n",
       "      <th>Fecha</th>\n",
       "      <th>Codigo_almacen</th>\n",
       "      <th>Codigo_cliente</th>\n",
       "      <th>Nombre_cliente</th>\n",
       "      <th>Codigo_vendedor</th>\n",
       "      <th>Codigo_proyecto</th>\n",
       "      <th>Codigo_producto</th>\n",
       "      <th>Cantidad_vendida</th>\n",
       "      <th>Total_proforma</th>\n",
       "      <th>Total_descuento</th>\n",
       "      <th>Facturar</th>\n",
       "      <th>Impuesto</th>\n",
       "      <th>Total_venta</th>\n",
       "    </tr>\n",
       "  </thead>\n",
       "  <tbody>\n",
       "    <tr>\n",
       "      <th>0</th>\n",
       "      <td>10009112</td>\n",
       "      <td>2016-04-26 00:00:00</td>\n",
       "      <td>111</td>\n",
       "      <td>11-016</td>\n",
       "      <td>GOBIERNO_AUTÓNOMO_MUNICIPAL_DE_PUNATA</td>\n",
       "      <td>015</td>\n",
       "      <td>P-001</td>\n",
       "      <td>A350070-0</td>\n",
       "      <td>2.0</td>\n",
       "      <td>23.2</td>\n",
       "      <td>0.0</td>\n",
       "      <td>23.2</td>\n",
       "      <td>3.016</td>\n",
       "      <td>20.184</td>\n",
       "    </tr>\n",
       "    <tr>\n",
       "      <th>1</th>\n",
       "      <td>10009112</td>\n",
       "      <td>2016-04-26 00:00:00</td>\n",
       "      <td>111</td>\n",
       "      <td>11-016</td>\n",
       "      <td>GOBIERNO_AUTÓNOMO_MUNICIPAL_DE_PUNATA</td>\n",
       "      <td>015</td>\n",
       "      <td>P-001</td>\n",
       "      <td>A350070-0</td>\n",
       "      <td>3.0</td>\n",
       "      <td>24.6</td>\n",
       "      <td>0.0</td>\n",
       "      <td>24.6</td>\n",
       "      <td>3.198</td>\n",
       "      <td>21.402</td>\n",
       "    </tr>\n",
       "  </tbody>\n",
       "</table>\n",
       "</div>"
      ],
      "text/plain": [
       "  Codigo_venta                Fecha Codigo_almacen Codigo_cliente  \\\n",
       "0     10009112  2016-04-26 00:00:00            111         11-016   \n",
       "1     10009112  2016-04-26 00:00:00            111         11-016   \n",
       "\n",
       "                          Nombre_cliente Codigo_vendedor Codigo_proyecto  \\\n",
       "0  GOBIERNO_AUTÓNOMO_MUNICIPAL_DE_PUNATA             015           P-001   \n",
       "1  GOBIERNO_AUTÓNOMO_MUNICIPAL_DE_PUNATA             015           P-001   \n",
       "\n",
       "  Codigo_producto  Cantidad_vendida  Total_proforma  Total_descuento  \\\n",
       "0       A350070-0               2.0            23.2              0.0   \n",
       "1       A350070-0               3.0            24.6              0.0   \n",
       "\n",
       "   Facturar  Impuesto  Total_venta  \n",
       "0      23.2     3.016       20.184  \n",
       "1      24.6     3.198       21.402  "
      ]
     },
     "execution_count": 55,
     "metadata": {},
     "output_type": "execute_result"
    }
   ],
   "source": [
    "# data_frames = []\n",
    "# for document in source_documents:\n",
    "#     df = read_excel_file(document)\n",
    "#     data_frames.append(trim_and_combine(df))\n",
    "# transformed_df = pd.concat(data_frames, ignore_index=True)\n",
    "# transformed_df = rename_and_drop_columns(transformed_df)\n",
    "# transformed_df.head(2)"
   ]
  },
  {
   "cell_type": "code",
   "execution_count": 56,
   "metadata": {},
   "outputs": [
    {
     "name": "stdout",
     "output_type": "stream",
     "text": [
      "Data frame shape: (172411, 14)\n",
      "Data Frame saved correctly \n"
     ]
    }
   ],
   "source": [
    "# save_data(transformed_df, proformas_2016_2022)\n"
   ]
  },
  {
   "cell_type": "markdown",
   "metadata": {},
   "source": [
    "### Explore proformas"
   ]
  },
  {
   "cell_type": "code",
   "execution_count": 57,
   "metadata": {},
   "outputs": [
    {
     "name": "stdout",
     "output_type": "stream",
     "text": [
      "Excel ./documents/proformas_2016-2022.csv read correctly, size (172411, 14)\n"
     ]
    },
    {
     "data": {
      "text/html": [
       "<div>\n",
       "<style scoped>\n",
       "    .dataframe tbody tr th:only-of-type {\n",
       "        vertical-align: middle;\n",
       "    }\n",
       "\n",
       "    .dataframe tbody tr th {\n",
       "        vertical-align: top;\n",
       "    }\n",
       "\n",
       "    .dataframe thead th {\n",
       "        text-align: right;\n",
       "    }\n",
       "</style>\n",
       "<table border=\"1\" class=\"dataframe\">\n",
       "  <thead>\n",
       "    <tr style=\"text-align: right;\">\n",
       "      <th></th>\n",
       "      <th>Codigo_venta</th>\n",
       "      <th>Fecha</th>\n",
       "      <th>Codigo_almacen</th>\n",
       "      <th>Codigo_cliente</th>\n",
       "      <th>Nombre_cliente</th>\n",
       "      <th>Codigo_vendedor</th>\n",
       "      <th>Codigo_proyecto</th>\n",
       "      <th>Codigo_producto</th>\n",
       "      <th>Cantidad_vendida</th>\n",
       "      <th>Total_proforma</th>\n",
       "      <th>Total_descuento</th>\n",
       "      <th>Facturar</th>\n",
       "      <th>Impuesto</th>\n",
       "      <th>Total_venta</th>\n",
       "    </tr>\n",
       "  </thead>\n",
       "  <tbody>\n",
       "    <tr>\n",
       "      <th>0</th>\n",
       "      <td>10009112</td>\n",
       "      <td>2016-04-26 00:00:00</td>\n",
       "      <td>111.0</td>\n",
       "      <td>11-016</td>\n",
       "      <td>GOBIERNO_AUTÓNOMO_MUNICIPAL_DE_PUNATA</td>\n",
       "      <td>15.0</td>\n",
       "      <td>P-001</td>\n",
       "      <td>A350070-0</td>\n",
       "      <td>2.0</td>\n",
       "      <td>23.2</td>\n",
       "      <td>0.0</td>\n",
       "      <td>23.2</td>\n",
       "      <td>3.016</td>\n",
       "      <td>20.184</td>\n",
       "    </tr>\n",
       "    <tr>\n",
       "      <th>1</th>\n",
       "      <td>10009112</td>\n",
       "      <td>2016-04-26 00:00:00</td>\n",
       "      <td>111.0</td>\n",
       "      <td>11-016</td>\n",
       "      <td>GOBIERNO_AUTÓNOMO_MUNICIPAL_DE_PUNATA</td>\n",
       "      <td>15.0</td>\n",
       "      <td>P-001</td>\n",
       "      <td>A350070-0</td>\n",
       "      <td>3.0</td>\n",
       "      <td>24.6</td>\n",
       "      <td>0.0</td>\n",
       "      <td>24.6</td>\n",
       "      <td>3.198</td>\n",
       "      <td>21.402</td>\n",
       "    </tr>\n",
       "  </tbody>\n",
       "</table>\n",
       "</div>"
      ],
      "text/plain": [
       "   Codigo_venta                Fecha  Codigo_almacen Codigo_cliente  \\\n",
       "0      10009112  2016-04-26 00:00:00           111.0         11-016   \n",
       "1      10009112  2016-04-26 00:00:00           111.0         11-016   \n",
       "\n",
       "                          Nombre_cliente  Codigo_vendedor Codigo_proyecto  \\\n",
       "0  GOBIERNO_AUTÓNOMO_MUNICIPAL_DE_PUNATA             15.0           P-001   \n",
       "1  GOBIERNO_AUTÓNOMO_MUNICIPAL_DE_PUNATA             15.0           P-001   \n",
       "\n",
       "  Codigo_producto  Cantidad_vendida  Total_proforma  Total_descuento  \\\n",
       "0       A350070-0               2.0            23.2              0.0   \n",
       "1       A350070-0               3.0            24.6              0.0   \n",
       "\n",
       "   Facturar  Impuesto  Total_venta  \n",
       "0      23.2     3.016       20.184  \n",
       "1      24.6     3.198       21.402  "
      ]
     },
     "execution_count": 57,
     "metadata": {},
     "output_type": "execute_result"
    }
   ],
   "source": [
    "explore_df = read_csv_file(proformas_2016_2022)\n",
    "explore_df.head(2)"
   ]
  },
  {
   "cell_type": "code",
   "execution_count": null,
   "metadata": {},
   "outputs": [
    {
     "data": {
      "text/plain": [
       "Codigo_venta        172406\n",
       "Fecha               172395\n",
       "Codigo_almacen      172299\n",
       "Codigo_cliente      164513\n",
       "Nombre_cliente      171112\n",
       "Codigo_vendedor     163297\n",
       "Codigo_proyecto     149873\n",
       "Codigo_producto     172406\n",
       "Cantidad_vendida    172406\n",
       "Total_proforma      172406\n",
       "Total_descuento     172406\n",
       "Facturar            172406\n",
       "Impuesto            172406\n",
       "Total_venta         172406\n",
       "dtype: int64"
      ]
     },
     "execution_count": 19,
     "metadata": {},
     "output_type": "execute_result"
    }
   ],
   "source": [
    "count_columns = explore_df.count()\n",
    "count_columns"
   ]
  },
  {
   "cell_type": "code",
   "execution_count": null,
   "metadata": {},
   "outputs": [
    {
     "data": {
      "text/plain": [
       "Codigo_venta            0\n",
       "Fecha                 -11\n",
       "Codigo_almacen       -107\n",
       "Codigo_cliente      -7893\n",
       "Nombre_cliente      -1294\n",
       "Codigo_vendedor     -9109\n",
       "Codigo_proyecto    -22533\n",
       "Codigo_producto         0\n",
       "Cantidad_vendida        0\n",
       "Total_proforma          0\n",
       "Total_descuento         0\n",
       "Facturar                0\n",
       "Impuesto                0\n",
       "Total_venta             0\n",
       "dtype: int64"
      ]
     },
     "execution_count": 20,
     "metadata": {},
     "output_type": "execute_result"
    }
   ],
   "source": [
    "miss_data = show_empty_files(explore_df)\n",
    "miss_data"
   ]
  },
  {
   "cell_type": "code",
   "execution_count": null,
   "metadata": {},
   "outputs": [
    {
     "data": {
      "text/html": [
       "<div>\n",
       "<style scoped>\n",
       "    .dataframe tbody tr th:only-of-type {\n",
       "        vertical-align: middle;\n",
       "    }\n",
       "\n",
       "    .dataframe tbody tr th {\n",
       "        vertical-align: top;\n",
       "    }\n",
       "\n",
       "    .dataframe thead th {\n",
       "        text-align: right;\n",
       "    }\n",
       "</style>\n",
       "<table border=\"1\" class=\"dataframe\">\n",
       "  <thead>\n",
       "    <tr style=\"text-align: right;\">\n",
       "      <th></th>\n",
       "      <th>Codigo_almacen</th>\n",
       "      <th>Codigo_vendedor</th>\n",
       "      <th>Cantidad_vendida</th>\n",
       "      <th>Total_proforma</th>\n",
       "      <th>Total_descuento</th>\n",
       "      <th>Facturar</th>\n",
       "      <th>Impuesto</th>\n",
       "      <th>Total_venta</th>\n",
       "    </tr>\n",
       "  </thead>\n",
       "  <tbody>\n",
       "    <tr>\n",
       "      <th>count</th>\n",
       "      <td>172299.000000</td>\n",
       "      <td>163297.000000</td>\n",
       "      <td>1.724060e+05</td>\n",
       "      <td>1.724060e+05</td>\n",
       "      <td>1.724060e+05</td>\n",
       "      <td>1.724060e+05</td>\n",
       "      <td>1.724060e+05</td>\n",
       "      <td>1.724060e+05</td>\n",
       "    </tr>\n",
       "    <tr>\n",
       "      <th>mean</th>\n",
       "      <td>148.271197</td>\n",
       "      <td>35.254830</td>\n",
       "      <td>5.423639e+02</td>\n",
       "      <td>3.607743e+04</td>\n",
       "      <td>5.797855e+02</td>\n",
       "      <td>3.549765e+04</td>\n",
       "      <td>4.614694e+03</td>\n",
       "      <td>3.088295e+04</td>\n",
       "    </tr>\n",
       "    <tr>\n",
       "      <th>std</th>\n",
       "      <td>26.057192</td>\n",
       "      <td>18.655702</td>\n",
       "      <td>4.476839e+03</td>\n",
       "      <td>1.191485e+06</td>\n",
       "      <td>1.307009e+05</td>\n",
       "      <td>1.197808e+06</td>\n",
       "      <td>1.557150e+05</td>\n",
       "      <td>1.042093e+06</td>\n",
       "    </tr>\n",
       "    <tr>\n",
       "      <th>min</th>\n",
       "      <td>1.000000</td>\n",
       "      <td>10.000000</td>\n",
       "      <td>-8.000000e+03</td>\n",
       "      <td>-9.814500e+04</td>\n",
       "      <td>-5.389432e+07</td>\n",
       "      <td>-5.993001e+05</td>\n",
       "      <td>-7.790901e+04</td>\n",
       "      <td>-5.213911e+05</td>\n",
       "    </tr>\n",
       "    <tr>\n",
       "      <th>25%</th>\n",
       "      <td>111.000000</td>\n",
       "      <td>17.000000</td>\n",
       "      <td>1.000000e+00</td>\n",
       "      <td>1.000000e+02</td>\n",
       "      <td>0.000000e+00</td>\n",
       "      <td>9.960000e+01</td>\n",
       "      <td>1.294800e+01</td>\n",
       "      <td>8.665200e+01</td>\n",
       "    </tr>\n",
       "    <tr>\n",
       "      <th>50%</th>\n",
       "      <td>162.000000</td>\n",
       "      <td>32.000000</td>\n",
       "      <td>7.000000e+00</td>\n",
       "      <td>5.950000e+02</td>\n",
       "      <td>0.000000e+00</td>\n",
       "      <td>5.931000e+02</td>\n",
       "      <td>7.710300e+01</td>\n",
       "      <td>5.159970e+02</td>\n",
       "    </tr>\n",
       "    <tr>\n",
       "      <th>75%</th>\n",
       "      <td>164.000000</td>\n",
       "      <td>51.000000</td>\n",
       "      <td>1.000000e+02</td>\n",
       "      <td>5.055000e+03</td>\n",
       "      <td>0.000000e+00</td>\n",
       "      <td>4.968000e+03</td>\n",
       "      <td>6.458400e+02</td>\n",
       "      <td>4.322160e+03</td>\n",
       "    </tr>\n",
       "    <tr>\n",
       "      <th>max</th>\n",
       "      <td>704.000000</td>\n",
       "      <td>74.000000</td>\n",
       "      <td>1.082601e+06</td>\n",
       "      <td>4.486640e+08</td>\n",
       "      <td>1.929600e+06</td>\n",
       "      <td>4.486640e+08</td>\n",
       "      <td>5.832632e+07</td>\n",
       "      <td>3.903377e+08</td>\n",
       "    </tr>\n",
       "  </tbody>\n",
       "</table>\n",
       "</div>"
      ],
      "text/plain": [
       "       Codigo_almacen  Codigo_vendedor  Cantidad_vendida  Total_proforma  \\\n",
       "count   172299.000000    163297.000000      1.724060e+05    1.724060e+05   \n",
       "mean       148.271197        35.254830      5.423639e+02    3.607743e+04   \n",
       "std         26.057192        18.655702      4.476839e+03    1.191485e+06   \n",
       "min          1.000000        10.000000     -8.000000e+03   -9.814500e+04   \n",
       "25%        111.000000        17.000000      1.000000e+00    1.000000e+02   \n",
       "50%        162.000000        32.000000      7.000000e+00    5.950000e+02   \n",
       "75%        164.000000        51.000000      1.000000e+02    5.055000e+03   \n",
       "max        704.000000        74.000000      1.082601e+06    4.486640e+08   \n",
       "\n",
       "       Total_descuento      Facturar      Impuesto   Total_venta  \n",
       "count     1.724060e+05  1.724060e+05  1.724060e+05  1.724060e+05  \n",
       "mean      5.797855e+02  3.549765e+04  4.614694e+03  3.088295e+04  \n",
       "std       1.307009e+05  1.197808e+06  1.557150e+05  1.042093e+06  \n",
       "min      -5.389432e+07 -5.993001e+05 -7.790901e+04 -5.213911e+05  \n",
       "25%       0.000000e+00  9.960000e+01  1.294800e+01  8.665200e+01  \n",
       "50%       0.000000e+00  5.931000e+02  7.710300e+01  5.159970e+02  \n",
       "75%       0.000000e+00  4.968000e+03  6.458400e+02  4.322160e+03  \n",
       "max       1.929600e+06  4.486640e+08  5.832632e+07  3.903377e+08  "
      ]
     },
     "execution_count": 21,
     "metadata": {},
     "output_type": "execute_result"
    }
   ],
   "source": [
    "explore_df.describe()"
   ]
  },
  {
   "cell_type": "code",
   "execution_count": null,
   "metadata": {},
   "outputs": [
    {
     "data": {
      "text/plain": [
       "Codigo_venta         object\n",
       "Fecha                object\n",
       "Codigo_almacen      float64\n",
       "Codigo_cliente       object\n",
       "Nombre_cliente       object\n",
       "Codigo_vendedor     float64\n",
       "Codigo_proyecto      object\n",
       "Codigo_producto      object\n",
       "Cantidad_vendida    float64\n",
       "Total_proforma      float64\n",
       "Total_descuento     float64\n",
       "Facturar            float64\n",
       "Impuesto            float64\n",
       "Total_venta         float64\n",
       "dtype: object"
      ]
     },
     "execution_count": 22,
     "metadata": {},
     "output_type": "execute_result"
    }
   ],
   "source": [
    "explore_df.dtypes"
   ]
  },
  {
   "cell_type": "markdown",
   "metadata": {},
   "source": [
    "Graphics "
   ]
  },
  {
   "cell_type": "code",
   "execution_count": null,
   "metadata": {},
   "outputs": [
    {
     "data": {
      "text/html": [
       "<div>\n",
       "<style scoped>\n",
       "    .dataframe tbody tr th:only-of-type {\n",
       "        vertical-align: middle;\n",
       "    }\n",
       "\n",
       "    .dataframe tbody tr th {\n",
       "        vertical-align: top;\n",
       "    }\n",
       "\n",
       "    .dataframe thead th {\n",
       "        text-align: right;\n",
       "    }\n",
       "</style>\n",
       "<table border=\"1\" class=\"dataframe\">\n",
       "  <thead>\n",
       "    <tr style=\"text-align: right;\">\n",
       "      <th></th>\n",
       "      <th>count</th>\n",
       "      <th>sum</th>\n",
       "      <th>avg_by_day</th>\n",
       "    </tr>\n",
       "    <tr>\n",
       "      <th>Fecha</th>\n",
       "      <th></th>\n",
       "      <th></th>\n",
       "      <th></th>\n",
       "    </tr>\n",
       "  </thead>\n",
       "  <tbody>\n",
       "    <tr>\n",
       "      <th>2016-04-01 00:00:00</th>\n",
       "      <td>9</td>\n",
       "      <td>3.512729e+05</td>\n",
       "      <td>39030.317000</td>\n",
       "    </tr>\n",
       "    <tr>\n",
       "      <th>2016-04-02 00:00:00</th>\n",
       "      <td>32</td>\n",
       "      <td>1.452428e+05</td>\n",
       "      <td>4538.836219</td>\n",
       "    </tr>\n",
       "    <tr>\n",
       "      <th>2016-04-04 00:00:00</th>\n",
       "      <td>26</td>\n",
       "      <td>4.506522e+04</td>\n",
       "      <td>1733.277577</td>\n",
       "    </tr>\n",
       "    <tr>\n",
       "      <th>2016-04-05 00:00:00</th>\n",
       "      <td>57</td>\n",
       "      <td>5.693555e+05</td>\n",
       "      <td>9988.692109</td>\n",
       "    </tr>\n",
       "    <tr>\n",
       "      <th>2016-04-06 00:00:00</th>\n",
       "      <td>98</td>\n",
       "      <td>4.541292e+05</td>\n",
       "      <td>4633.971480</td>\n",
       "    </tr>\n",
       "    <tr>\n",
       "      <th>...</th>\n",
       "      <td>...</td>\n",
       "      <td>...</td>\n",
       "      <td>...</td>\n",
       "    </tr>\n",
       "    <tr>\n",
       "      <th>2021-12-14 00:00:00</th>\n",
       "      <td>128</td>\n",
       "      <td>1.436565e+06</td>\n",
       "      <td>11223.161695</td>\n",
       "    </tr>\n",
       "    <tr>\n",
       "      <th>2021-12-15 00:00:00</th>\n",
       "      <td>5</td>\n",
       "      <td>7.568395e+04</td>\n",
       "      <td>15136.790700</td>\n",
       "    </tr>\n",
       "    <tr>\n",
       "      <th>2021-12-20 00:00:00</th>\n",
       "      <td>4</td>\n",
       "      <td>1.485786e+04</td>\n",
       "      <td>3714.465000</td>\n",
       "    </tr>\n",
       "    <tr>\n",
       "      <th>2022-03-17 00:00:00</th>\n",
       "      <td>44</td>\n",
       "      <td>4.685646e+04</td>\n",
       "      <td>1064.919545</td>\n",
       "    </tr>\n",
       "    <tr>\n",
       "      <th>4292552277.0</th>\n",
       "      <td>7</td>\n",
       "      <td>0.000000e+00</td>\n",
       "      <td>0.000000</td>\n",
       "    </tr>\n",
       "  </tbody>\n",
       "</table>\n",
       "<p>1692 rows × 3 columns</p>\n",
       "</div>"
      ],
      "text/plain": [
       "                     count           sum    avg_by_day\n",
       "Fecha                                                 \n",
       "2016-04-01 00:00:00      9  3.512729e+05  39030.317000\n",
       "2016-04-02 00:00:00     32  1.452428e+05   4538.836219\n",
       "2016-04-04 00:00:00     26  4.506522e+04   1733.277577\n",
       "2016-04-05 00:00:00     57  5.693555e+05   9988.692109\n",
       "2016-04-06 00:00:00     98  4.541292e+05   4633.971480\n",
       "...                    ...           ...           ...\n",
       "2021-12-14 00:00:00    128  1.436565e+06  11223.161695\n",
       "2021-12-15 00:00:00      5  7.568395e+04  15136.790700\n",
       "2021-12-20 00:00:00      4  1.485786e+04   3714.465000\n",
       "2022-03-17 00:00:00     44  4.685646e+04   1064.919545\n",
       "4292552277.0             7  0.000000e+00      0.000000\n",
       "\n",
       "[1692 rows x 3 columns]"
      ]
     },
     "execution_count": 23,
     "metadata": {},
     "output_type": "execute_result"
    }
   ],
   "source": [
    "total_proformas_by_day = explore_df.groupby(\"Fecha\")['Total_venta'].agg(['count', 'sum'])\n",
    "\n",
    "total_proformas_by_day['avg_by_day'] = total_proformas_by_day.apply(lambda x : x[\"sum\"]/x[\"count\"] if x[\"count\"]>0  else 0, axis=1 )\n",
    "\n",
    "total_proformas_by_day"
   ]
  },
  {
   "cell_type": "code",
   "execution_count": null,
   "metadata": {},
   "outputs": [
    {
     "data": {
      "image/png": "[encoded data removed]",
      "text/plain": [
       "<Figure size 1000x600 with 1 Axes>"
      ]
     },
     "metadata": {},
     "output_type": "display_data"
    }
   ],
   "source": [
    "total_proformas_by_day['avg_by_day'].plot(kind=\"line\", figsize=(10,6), title=\"avg sells by day\")\n",
    "plt.xlabel(\"Codigo de vendedor\")\n",
    "plt.ylabel(\"Promedio de ventas por vendedor\")\n",
    "plt.show()"
   ]
  },
  {
   "cell_type": "code",
   "execution_count": null,
   "metadata": {},
   "outputs": [
    {
     "data": {
      "text/plain": [
       "2218"
      ]
     },
     "execution_count": 25,
     "metadata": {},
     "output_type": "execute_result"
    }
   ],
   "source": [
    "len(explore_df[explore_df[\"Cantidad_vendida\"]<0])"
   ]
  },
  {
   "cell_type": "code",
   "execution_count": null,
   "metadata": {},
   "outputs": [
    {
     "data": {
      "text/plain": [
       "2228"
      ]
     },
     "execution_count": 26,
     "metadata": {},
     "output_type": "execute_result"
    }
   ],
   "source": [
    "len(explore_df[explore_df[\"Total_venta\"]<0])"
   ]
  },
  {
   "cell_type": "code",
   "execution_count": null,
   "metadata": {},
   "outputs": [
    {
     "data": {
      "text/plain": [
       "2228"
      ]
     },
     "execution_count": 27,
     "metadata": {},
     "output_type": "execute_result"
    }
   ],
   "source": [
    "len(explore_df[explore_df[\"Impuesto\"]<0])"
   ]
  },
  {
   "cell_type": "code",
   "execution_count": null,
   "metadata": {},
   "outputs": [
    {
     "data": {
      "text/plain": [
       "2228"
      ]
     },
     "execution_count": 28,
     "metadata": {},
     "output_type": "execute_result"
    }
   ],
   "source": [
    "len(explore_df[explore_df[\"Facturar\"]<0])"
   ]
  },
  {
   "cell_type": "code",
   "execution_count": null,
   "metadata": {},
   "outputs": [
    {
     "data": {
      "text/plain": [
       "2228"
      ]
     },
     "execution_count": 29,
     "metadata": {},
     "output_type": "execute_result"
    }
   ],
   "source": [
    "len(explore_df[(explore_df[\"Total_venta\"]<0) & (explore_df[\"Impuesto\"])& (explore_df[\"Facturar\"])])"
   ]
  },
  {
   "cell_type": "code",
   "execution_count": null,
   "metadata": {},
   "outputs": [
    {
     "data": {
      "text/plain": [
       "30"
      ]
     },
     "execution_count": 30,
     "metadata": {},
     "output_type": "execute_result"
    }
   ],
   "source": [
    "len(explore_df[explore_df[\"Total_descuento\"]<0])"
   ]
  },
  {
   "cell_type": "code",
   "execution_count": null,
   "metadata": {},
   "outputs": [
    {
     "data": {
      "text/plain": [
       "2221"
      ]
     },
     "execution_count": 31,
     "metadata": {},
     "output_type": "execute_result"
    }
   ],
   "source": [
    "len(explore_df[explore_df[\"Total_proforma\"]<0])"
   ]
  },
  {
   "cell_type": "code",
   "execution_count": null,
   "metadata": {},
   "outputs": [
    {
     "data": {
      "text/plain": [
       "2221"
      ]
     },
     "execution_count": 32,
     "metadata": {},
     "output_type": "execute_result"
    }
   ],
   "source": [
    "len(explore_df[(explore_df[\"Total_proforma\"]<0) & (explore_df[\"Cantidad_vendida\"])])"
   ]
  },
  {
   "cell_type": "markdown",
   "metadata": {},
   "source": [
    "### Fill df"
   ]
  },
  {
   "cell_type": "code",
   "execution_count": 95,
   "metadata": {},
   "outputs": [],
   "source": [
    "incompleted_df = explore_df "
   ]
  },
  {
   "cell_type": "markdown",
   "metadata": {},
   "source": [
    "Check how many are empty "
   ]
  },
  {
   "cell_type": "code",
   "execution_count": 96,
   "metadata": {},
   "outputs": [],
   "source": [
    "incompleted_df = fill_codigo_almacen(incompleted_df)\n"
   ]
  },
  {
   "cell_type": "code",
   "execution_count": 97,
   "metadata": {},
   "outputs": [],
   "source": [
    "incompleted_df = fill_codigo_cliente(incompleted_df)"
   ]
  },
  {
   "cell_type": "code",
   "execution_count": null,
   "metadata": {},
   "outputs": [],
   "source": [
    "incompleted_df = fill_nombre_cliente(incompleted_df)"
   ]
  },
  {
   "cell_type": "code",
   "execution_count": 98,
   "metadata": {},
   "outputs": [
    {
     "data": {
      "text/plain": [
       "Codigo_venta            0\n",
       "Fecha                   0\n",
       "Codigo_almacen          0\n",
       "Codigo_cliente          0\n",
       "Nombre_cliente      -1294\n",
       "Codigo_vendedor     -9099\n",
       "Codigo_proyecto    -22535\n",
       "Codigo_producto         0\n",
       "Cantidad_vendida        0\n",
       "Total_proforma          0\n",
       "Total_descuento         0\n",
       "Facturar                0\n",
       "Impuesto                0\n",
       "Total_venta             0\n",
       "dtype: int64"
      ]
     },
     "execution_count": 98,
     "metadata": {},
     "output_type": "execute_result"
    }
   ],
   "source": [
    "miss_data = show_empty_files(incompleted_df)\n",
    "miss_data"
   ]
  }
 ],
 "metadata": {
  "kernelspec": {
   "display_name": "Python 3 (ipykernel)",
   "language": "python",
   "name": "python3"
  },
  "language_info": {
   "codemirror_mode": {
    "name": "ipython",
    "version": 3
   },
   "file_extension": ".py",
   "mimetype": "text/x-python",
   "name": "python",
   "nbconvert_exporter": "python",
   "pygments_lexer": "ipython3",
   "version": "3.8.17"
  }
 },
 "nbformat": 4,
 "nbformat_minor": 2
}
